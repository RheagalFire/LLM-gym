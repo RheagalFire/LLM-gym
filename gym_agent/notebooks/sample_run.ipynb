{
 "cells": [
  {
   "cell_type": "code",
   "execution_count": null,
   "metadata": {
    "vscode": {
     "languageId": "plaintext"
    }
   },
   "outputs": [],
   "source": [
    "\"\"\"\n",
    "Simple example of using the Gym Agent\n",
    "\"\"\"\n",
    "\n",
    "from gym_agent.agents.graph_agent import GraphAgent\n",
    "\n",
    "\n",
    "def main():\n",
    "    \"\"\"\n",
    "    Main function\n",
    "    \"\"\"\n",
    "    # Create agent\n",
    "    agent = GraphAgent()\n",
    "\n",
    "    # Run agent with a query\n",
    "    query = \"What are the key concepts in LLM inference?\"\n",
    "    print(f\"Query: {query}\")\n",
    "\n",
    "    response = agent.run(query)\n",
    "    print(f\"Response: {response}\")\n",
    "\n",
    "    # Run agent with a follow-up query\n",
    "    conversation_history = [\n",
    "        {\"role\": \"user\", \"content\": query},\n",
    "        {\"role\": \"assistant\", \"content\": response},\n",
    "    ]\n",
    "\n",
    "    follow_up_query = \"How does KV-Cache optimization work?\"\n",
    "    print(f\"\\nFollow-up Query: {follow_up_query}\")\n",
    "\n",
    "    follow_up_response = agent.run(follow_up_query, conversation_history)\n",
    "    print(f\"Response: {follow_up_response}\")\n",
    "\n",
    "\n",
    "if __name__ == \"__main__\":\n",
    "    main()\n"
   ]
  }
 ],
 "metadata": {
  "language_info": {
   "name": "python"
  }
 },
 "nbformat": 4,
 "nbformat_minor": 2
}
